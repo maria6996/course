{
 "cells": [
  {
   "metadata": {
    "ExecuteTime": {
     "end_time": "2024-11-13T11:05:04.398181Z",
     "start_time": "2024-11-13T11:05:04.393Z"
    }
   },
   "cell_type": "code",
   "source": [
    "import pickle\n",
    "from sklearn.linear_model import LinearRegression\n",
    "from sklearn.model_selection import train_test_split\n",
    "import pandas as pd\n"
   ],
   "id": "d8a758173148ecba",
   "outputs": [],
   "execution_count": 79
  },
  {
   "metadata": {
    "ExecuteTime": {
     "end_time": "2024-11-13T11:32:30.888167Z",
     "start_time": "2024-11-13T11:32:30.790086Z"
    }
   },
   "cell_type": "code",
   "source": [
    "data = pd.read_csv('car_price.csv')\n",
    "X = data[['brand', 'model', 'year']]\n",
    "X = pd.get_dummies(X, columns=['brand', 'model'])\n",
    "y = data['price']\n",
    "y = y.fillna(y.mean())\n",
    "\n",
    "# Split data\n",
    "X_train, X_test, y_train, y_test = train_test_split(X, y, test_size=0.2)\n",
    "\n",
    "# Train the model\n",
    "model = LinearRegression()\n",
    "model.fit(X_train, y_train)\n",
    "\n",
    "# Save the trained model\n",
    "with open('car_price_model.pkl', 'wb') as file:\n",
    "    pickle.dump((model, X_train.columns), file)  # Save both model and feature names"
   ],
   "id": "37681eaafc1fe6e0",
   "outputs": [],
   "execution_count": 98
  }
 ],
 "metadata": {
  "kernelspec": {
   "display_name": "Python 3",
   "language": "python",
   "name": "python3"
  },
  "language_info": {
   "codemirror_mode": {
    "name": "ipython",
    "version": 2
   },
   "file_extension": ".py",
   "mimetype": "text/x-python",
   "name": "python",
   "nbconvert_exporter": "python",
   "pygments_lexer": "ipython2",
   "version": "2.7.6"
  }
 },
 "nbformat": 4,
 "nbformat_minor": 5
}
